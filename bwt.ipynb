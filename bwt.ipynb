{
 "cells": [
  {
   "cell_type": "code",
   "execution_count": 1,
   "metadata": {},
   "outputs": [],
   "source": [
    "import pandas as pd\n",
    "df = pd.read_csv('q2_2018_data.csv', parse_dates=['Updated'], index_col='Updated')"
   ]
  },
  {
   "cell_type": "code",
   "execution_count": 3,
   "metadata": {},
   "outputs": [
    {
     "data": {
      "text/html": [
       "<div>\n",
       "<style scoped>\n",
       "    .dataframe tbody tr th:only-of-type {\n",
       "        vertical-align: middle;\n",
       "    }\n",
       "\n",
       "    .dataframe tbody tr th {\n",
       "        vertical-align: top;\n",
       "    }\n",
       "\n",
       "    .dataframe thead th {\n",
       "        text-align: right;\n",
       "    }\n",
       "</style>\n",
       "<table border=\"1\" class=\"dataframe\">\n",
       "  <thead>\n",
       "    <tr style=\"text-align: right;\">\n",
       "      <th></th>\n",
       "      <th>CBSA Office</th>\n",
       "      <th>Location</th>\n",
       "      <th>Commercial Flow</th>\n",
       "      <th>Traveller Flow</th>\n",
       "    </tr>\n",
       "    <tr>\n",
       "      <th>Updated</th>\n",
       "      <th></th>\n",
       "      <th></th>\n",
       "      <th></th>\n",
       "      <th></th>\n",
       "    </tr>\n",
       "  </thead>\n",
       "  <tbody>\n",
       "    <tr>\n",
       "      <th>2017-04-01 01:00:00</th>\n",
       "      <td>St. Stephen</td>\n",
       "      <td>St.Stephen, NB</td>\n",
       "      <td>Not applicable</td>\n",
       "      <td>No delay</td>\n",
       "    </tr>\n",
       "    <tr>\n",
       "      <th>2017-04-01 02:00:00</th>\n",
       "      <td>St. Stephen</td>\n",
       "      <td>St.Stephen, NB</td>\n",
       "      <td>Not applicable</td>\n",
       "      <td>No delay</td>\n",
       "    </tr>\n",
       "    <tr>\n",
       "      <th>2017-04-01 03:00:00</th>\n",
       "      <td>St. Stephen</td>\n",
       "      <td>St.Stephen, NB</td>\n",
       "      <td>Not applicable</td>\n",
       "      <td>No delay</td>\n",
       "    </tr>\n",
       "    <tr>\n",
       "      <th>2017-04-01 04:00:00</th>\n",
       "      <td>St. Stephen</td>\n",
       "      <td>St.Stephen, NB</td>\n",
       "      <td>Not applicable</td>\n",
       "      <td>No delay</td>\n",
       "    </tr>\n",
       "    <tr>\n",
       "      <th>2017-04-01 05:00:00</th>\n",
       "      <td>St. Stephen</td>\n",
       "      <td>St.Stephen, NB</td>\n",
       "      <td>Not applicable</td>\n",
       "      <td>No delay</td>\n",
       "    </tr>\n",
       "  </tbody>\n",
       "</table>\n",
       "</div>"
      ],
      "text/plain": [
       "                     CBSA Office        Location Commercial Flow  \\\n",
       "Updated                                                            \n",
       "2017-04-01 01:00:00  St. Stephen  St.Stephen, NB  Not applicable   \n",
       "2017-04-01 02:00:00  St. Stephen  St.Stephen, NB  Not applicable   \n",
       "2017-04-01 03:00:00  St. Stephen  St.Stephen, NB  Not applicable   \n",
       "2017-04-01 04:00:00  St. Stephen  St.Stephen, NB  Not applicable   \n",
       "2017-04-01 05:00:00  St. Stephen  St.Stephen, NB  Not applicable   \n",
       "\n",
       "                    Traveller Flow  \n",
       "Updated                             \n",
       "2017-04-01 01:00:00       No delay  \n",
       "2017-04-01 02:00:00       No delay  \n",
       "2017-04-01 03:00:00       No delay  \n",
       "2017-04-01 04:00:00       No delay  \n",
       "2017-04-01 05:00:00       No delay  "
      ]
     },
     "execution_count": 3,
     "metadata": {},
     "output_type": "execute_result"
    }
   ],
   "source": [
    "df.head()"
   ]
  },
  {
   "cell_type": "code",
   "execution_count": 4,
   "metadata": {},
   "outputs": [],
   "source": [
    "# remove unnecessary columns\n",
    "df.drop(columns='Commercial Flow', inplace=True)\n"
   ]
  },
  {
   "cell_type": "code",
   "execution_count": 5,
   "metadata": {},
   "outputs": [],
   "source": [
    "# replace 'No delay\" with 0\n",
    "df.replace(to_replace='No delay', value=0, inplace=True)"
   ]
  },
  {
   "cell_type": "code",
   "execution_count": 6,
   "metadata": {},
   "outputs": [
    {
     "data": {
      "text/html": [
       "<div>\n",
       "<style scoped>\n",
       "    .dataframe tbody tr th:only-of-type {\n",
       "        vertical-align: middle;\n",
       "    }\n",
       "\n",
       "    .dataframe tbody tr th {\n",
       "        vertical-align: top;\n",
       "    }\n",
       "\n",
       "    .dataframe thead th {\n",
       "        text-align: right;\n",
       "    }\n",
       "</style>\n",
       "<table border=\"1\" class=\"dataframe\">\n",
       "  <thead>\n",
       "    <tr style=\"text-align: right;\">\n",
       "      <th></th>\n",
       "      <th>CBSA Office</th>\n",
       "      <th>Location</th>\n",
       "      <th>wait</th>\n",
       "    </tr>\n",
       "    <tr>\n",
       "      <th>Updated</th>\n",
       "      <th></th>\n",
       "      <th></th>\n",
       "      <th></th>\n",
       "    </tr>\n",
       "  </thead>\n",
       "  <tbody>\n",
       "    <tr>\n",
       "      <th>2017-04-01 01:00:00</th>\n",
       "      <td>St. Stephen</td>\n",
       "      <td>St.Stephen, NB</td>\n",
       "      <td>0</td>\n",
       "    </tr>\n",
       "    <tr>\n",
       "      <th>2017-04-01 02:00:00</th>\n",
       "      <td>St. Stephen</td>\n",
       "      <td>St.Stephen, NB</td>\n",
       "      <td>0</td>\n",
       "    </tr>\n",
       "    <tr>\n",
       "      <th>2017-04-01 03:00:00</th>\n",
       "      <td>St. Stephen</td>\n",
       "      <td>St.Stephen, NB</td>\n",
       "      <td>0</td>\n",
       "    </tr>\n",
       "    <tr>\n",
       "      <th>2017-04-01 04:00:00</th>\n",
       "      <td>St. Stephen</td>\n",
       "      <td>St.Stephen, NB</td>\n",
       "      <td>0</td>\n",
       "    </tr>\n",
       "    <tr>\n",
       "      <th>2017-04-01 05:00:00</th>\n",
       "      <td>St. Stephen</td>\n",
       "      <td>St.Stephen, NB</td>\n",
       "      <td>0</td>\n",
       "    </tr>\n",
       "  </tbody>\n",
       "</table>\n",
       "</div>"
      ],
      "text/plain": [
       "                     CBSA Office        Location wait\n",
       "Updated                                              \n",
       "2017-04-01 01:00:00  St. Stephen  St.Stephen, NB    0\n",
       "2017-04-01 02:00:00  St. Stephen  St.Stephen, NB    0\n",
       "2017-04-01 03:00:00  St. Stephen  St.Stephen, NB    0\n",
       "2017-04-01 04:00:00  St. Stephen  St.Stephen, NB    0\n",
       "2017-04-01 05:00:00  St. Stephen  St.Stephen, NB    0"
      ]
     },
     "execution_count": 6,
     "metadata": {},
     "output_type": "execute_result"
    }
   ],
   "source": [
    "#rename column of interest\n",
    "df.rename(columns={'Traveller Flow': 'wait'}, inplace=True)\n",
    "df.head()"
   ]
  },
  {
   "cell_type": "code",
   "execution_count": 29,
   "metadata": {},
   "outputs": [
    {
     "data": {
      "text/plain": [
       "array(['St.Stephen, NB', 'Belleville, NB', 'Edmundston, NB',\n",
       "       'Stanstead, QC', 'St. Armand, QC', 'Lacolle, QC', 'Cornwall, ON',\n",
       "       'Fort Erie, ON', 'Niagara Falls, ON', 'Queenston, ON',\n",
       "       'Prescott, ON', 'Sarnia, ON', 'Sault Ste. Marie, ON', 'Windsor, ON',\n",
       "       'Gananoque, ON', 'Fort Frances, ON', 'Emerson, MB',\n",
       "       'North Portal, SK', 'Coutts, AB', 'Surrey, BC', 'Delta, BC',\n",
       "       'Huntingdon, BC', 'Aldergrove, BC'], dtype=object)"
      ]
     },
     "execution_count": 29,
     "metadata": {},
     "output_type": "execute_result"
    }
   ],
   "source": [
    "df.Location.unique()"
   ]
  },
  {
   "cell_type": "code",
   "execution_count": 58,
   "metadata": {
    "scrolled": false
   },
   "outputs": [
    {
     "data": {
      "text/plain": [
       "<matplotlib.axes._subplots.AxesSubplot at 0xd75e6f0>"
      ]
     },
     "execution_count": 58,
     "metadata": {},
     "output_type": "execute_result"
    },
    {
     "data": {
      "image/png": "[encoded data removed]",
      "text/plain": [
       "<matplotlib.figure.Figure at 0xd7ef070>"
      ]
     },
     "metadata": {},
     "output_type": "display_data"
    }
   ],
   "source": [
    "sarnia = df.loc[df.Location == 'Sarnia, ON']\n",
    "sarnia = sarnia['5-1-17':'5-7-17']\n",
    "sarnia_df = pd.DataFrame(sarnia.wait2.resample('H').mean())\n",
    "sarnia_df.plot(title='Sarnia Average Wait times in May')"
   ]
  },
  {
   "cell_type": "code",
   "execution_count": 8,
   "metadata": {},
   "outputs": [],
   "source": [
    "# conver wait values to floats if possible as 'wait2' and drop non-integer values\n",
    "df['wait2'] = pd.to_numeric(df.wait, errors='coerce')\n",
    "df2 = df.dropna(axis=0)"
   ]
  },
  {
   "cell_type": "code",
   "execution_count": 10,
   "metadata": {},
   "outputs": [],
   "source": [
    "#drop 'wait'\n",
    "df = df2.drop('wait', axis=1)"
   ]
  },
  {
   "cell_type": "code",
   "execution_count": 17,
   "metadata": {},
   "outputs": [
    {
     "data": {
      "text/plain": [
       "<matplotlib.axes._subplots.AxesSubplot at 0xc3249d0>"
      ]
     },
     "execution_count": 17,
     "metadata": {},
     "output_type": "execute_result"
    },
    {
     "data": {
      "image/png": "[encoded data removed]",
      "text/plain": [
       "<matplotlib.figure.Figure at 0xc340410>"
      ]
     },
     "metadata": {},
     "output_type": "display_data"
    }
   ],
   "source": [
    "%matplotlib inline\n",
    "df.wait2.resample('D').mean().plot()"
   ]
  },
  {
   "cell_type": "code",
   "execution_count": null,
   "metadata": {},
   "outputs": [],
   "source": []
  },
  {
   "cell_type": "code",
   "execution_count": 25,
   "metadata": {
    "scrolled": true
   },
   "outputs": [
    {
     "data": {
      "text/plain": [
       "<matplotlib.axes._subplots.AxesSubplot at 0xc385770>"
      ]
     },
     "execution_count": 25,
     "metadata": {},
     "output_type": "execute_result"
    },
    {
     "data": {
      "image/png": "[encoded data removed]",
      "text/plain": [
       "<matplotlib.figure.Figure at 0xc3859f0>"
      ]
     },
     "metadata": {},
     "output_type": "display_data"
    }
   ],
   "source": [
    "g = df.groupby('Location').mean()\n",
    "g.plot(kind='bar')"
   ]
  },
  {
   "cell_type": "code",
   "execution_count": null,
   "metadata": {},
   "outputs": [],
   "source": []
  }
 ],
 "metadata": {
  "kernelspec": {
   "display_name": "Python 3",
   "language": "python",
   "name": "python3"
  },
  "language_info": {
   "codemirror_mode": {
    "name": "ipython",
    "version": 3
   },
   "file_extension": ".py",
   "mimetype": "text/x-python",
   "name": "python",
   "nbconvert_exporter": "python",
   "pygments_lexer": "ipython3",
   "version": "3.6.3"
  }
 },
 "nbformat": 4,
 "nbformat_minor": 2
}
